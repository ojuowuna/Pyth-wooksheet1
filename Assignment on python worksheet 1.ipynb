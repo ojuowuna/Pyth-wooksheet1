{
 "cells": [
  {
   "cell_type": "code",
   "execution_count": 1,
   "id": "0f320811",
   "metadata": {},
   "outputs": [
    {
     "name": "stdout",
     "output_type": "stream",
     "text": [
      "Factorial of 6 is 720\n"
     ]
    }
   ],
   "source": [
    "# Answer to Q11\n",
    "# define the factorial(x) and set the condition(s)\n",
    "\n",
    "def Prefactorial(x):\n",
    "    factorial ={}\n",
    "    i=1\n",
    "    if x <= 1:\n",
    "        return 1\n",
    "       \n",
    "    elif x == 1 or x == 0:\n",
    "        return 0\n",
    "    else:\n",
    "        factorial = 1\n",
    "        while(x > 1):\n",
    "            factorial *= x\n",
    "            x -= 1\n",
    "        return factorial\n",
    " \n",
    "# input the driver code for the number to be factorial\n",
    "number = 6\n",
    "print(\"Factorial of\",number,\"is\",Prefactorial(number))"
   ]
  },
  {
   "cell_type": "code",
   "execution_count": 2,
   "id": "bd1452c6",
   "metadata": {},
   "outputs": [],
   "source": [
    "d = 6*5*4*3*2*1"
   ]
  },
  {
   "cell_type": "code",
   "execution_count": 3,
   "id": "b3c771b9",
   "metadata": {},
   "outputs": [
    {
     "data": {
      "text/plain": [
       "720"
      ]
     },
     "execution_count": 3,
     "metadata": {},
     "output_type": "execute_result"
    }
   ],
   "source": [
    "d"
   ]
  },
  {
   "cell_type": "code",
   "execution_count": 4,
   "id": "5ee74dc9",
   "metadata": {},
   "outputs": [
    {
     "name": "stdout",
     "output_type": "stream",
     "text": [
      "6 is NOT a prime number it is a COMPOSITE number\n",
      "6 is not prime but is composite number\n"
     ]
    }
   ],
   "source": [
    "# Answer to Q12\n",
    "# finding whether a number is prime or composite\n",
    "\n",
    "if number  <1:\n",
    "    for i in range(1,2, number):        \n",
    "        if (number % i) == 1:\n",
    "            print(number, \"is NOT a prime number\")\n",
    "            break\n",
    "    else:\n",
    "         print(number, \"is a PRIME number\")\n",
    "        \n",
    "elif number == 1 or 0:\n",
    "    print(number, \"is a neither prime NOR composite number\")\n",
    "else:\n",
    "    print(number, \"is NOT a prime number it is a COMPOSITE number\")\n",
    "    \n",
    "    print(number,\"is not prime but is composite number\")"
   ]
  },
  {
   "cell_type": "code",
   "execution_count": 10,
   "id": "ef70ce86",
   "metadata": {},
   "outputs": [
    {
     "name": "stdout",
     "output_type": "stream",
     "text": [
      "acunterbility: It is not Acounterbility\n"
     ]
    }
   ],
   "source": [
    "#Q 13\n",
    "\n",
    "# Program to check if a string is palindrome or not\n",
    "\n",
    "getwith_str = 'Acunterbility:'\n",
    "\n",
    "# have to make it suitable for caseless comparison\n",
    "getwith_str = getwith_str.casefold()\n",
    "\n",
    "# reversing the string\n",
    "rev_str = reversed(getwith_str)\n",
    "\n",
    "# checking equality of the string its reverse form\n",
    "if list(getwith_str) == list(rev_str):\n",
    "    \n",
    "    print(getwith_str,\"is Acounterbility\")\n",
    "else:\n",
    "    print(getwith_str,\"It is not Acounterbility\")"
   ]
  },
  {
   "cell_type": "code",
   "execution_count": 6,
   "id": "5312785c",
   "metadata": {},
   "outputs": [
    {
     "name": "stdout",
     "output_type": "stream",
     "text": [
      "enter the number of rows:6\n",
      "1\n",
      "12\n",
      "123\n",
      "1234\n",
      "12345\n",
      "123456\n"
     ]
    }
   ],
   "source": [
    "# Q 14\n",
    "# Writing a Python program to get the third side of right-angled triangle from two given sides.\n",
    "# take any letter for a statment\n",
    "\n",
    "k = int(input(\"enter the number of rows:\"))\n",
    "\n",
    "for x in range(1, k+1):\n",
    "    for y in range(1, x+1):\n",
    "        print(y,end=\"\")\n",
    "   \n",
    "    print() "
   ]
  },
  {
   "cell_type": "code",
   "execution_count": 7,
   "id": "fcc76d38",
   "metadata": {},
   "outputs": [
    {
     "name": "stdout",
     "output_type": "stream",
     "text": [
      "enter the number of rows:6\n",
      "1\n",
      "22\n",
      "333\n",
      "4444\n",
      "55555\n",
      "666666\n"
     ]
    }
   ],
   "source": [
    "k = int(input(\"enter the number of rows:\"))\n",
    "\n",
    "for x in range(1, k+1):\n",
    "    for y in range(1, x+1):\n",
    "        print(x,end=\"\")\n",
    "   \n",
    "    print() "
   ]
  },
  {
   "cell_type": "code",
   "execution_count": 8,
   "id": "4aa708fa",
   "metadata": {},
   "outputs": [
    {
     "name": "stdout",
     "output_type": "stream",
     "text": [
      "Count of all characters in Accommodation is :\n",
      " {'A': 1, 'c': 2, 'o': 3, 'm': 2, 'd': 1, 'a': 1, 't': 1, 'i': 1, 'n': 1}\n"
     ]
    }
   ],
   "source": [
    "# Q15\n",
    "# Write a python program to print the frequency of each of the characters present in a given string\n",
    "\n",
    "# By using the naive method to find the frequency occurrence  \n",
    "# I begin by initialization of the choosen string - 'Accommodation'\n",
    "\n",
    "string = \"Accommodation\"\n",
    " \n",
    "# here I'll love to get count of each element in the string\n",
    "getwith_freq = {}\n",
    " \n",
    "for c in string:\n",
    "    if c in getwith_freq:\n",
    "        getwith_freq[c] += 1\n",
    "    else:\n",
    "        getwith_freq[c] = 1\n",
    " \n",
    "# printing result\n",
    "print(\"Count of all characters in Accommodation is :\\n \"\n",
    "      + str(getwith_freq))"
   ]
  },
  {
   "cell_type": "code",
   "execution_count": null,
   "id": "ee8fef7e",
   "metadata": {},
   "outputs": [],
   "source": []
  }
 ],
 "metadata": {
  "kernelspec": {
   "display_name": "Python 3 (ipykernel)",
   "language": "python",
   "name": "python3"
  },
  "language_info": {
   "codemirror_mode": {
    "name": "ipython",
    "version": 3
   },
   "file_extension": ".py",
   "mimetype": "text/x-python",
   "name": "python",
   "nbconvert_exporter": "python",
   "pygments_lexer": "ipython3",
   "version": "3.9.13"
  }
 },
 "nbformat": 4,
 "nbformat_minor": 5
}
